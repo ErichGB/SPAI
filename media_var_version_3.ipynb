{
 "cells": [
  {
   "cell_type": "markdown",
   "metadata": {},
   "source": [
    "### Calculo de media y varianza del dataset data_ok.csv\n",
    "Septiembre 2024\n",
    "\n",
    "v3: Transforma cada celda del dataset en un elemento (j,v),  donde \"j\" es la columna de la celda y \"v\" es el valor de la celda del rdd. Resuelve el problema con esta nueva estructura del dataset\n",
    "\n",
    "Realizado por:\n",
    "- GEORGELYS MARCANO\n",
    "- ERICH GONZÁLEZ\n",
    "- DANIEL GUTIÉRREZ"
   ]
  },
  {
   "cell_type": "code",
   "execution_count": 7,
   "metadata": {},
   "outputs": [
    {
     "name": "stderr",
     "output_type": "stream",
     "text": [
      "                                                                                \r"
     ]
    },
    {
     "data": {
      "text/plain": [
       "[633.8912890121146,\n",
       " 56288.3055204925,\n",
       " 1720.3504419886556,\n",
       " 2425645.279927015,\n",
       " 0.0]"
      ]
     },
     "execution_count": 7,
     "metadata": {},
     "output_type": "execute_result"
    }
   ],
   "source": [
    "import findspark\n",
    "findspark.init()\n",
    "from pyspark.sql import SparkSession\n",
    "import numpy as np\n",
    "from pyspark import RDD\n",
    "from typing import Tuple \n",
    "\n",
    "# Configuración de la sesión de Spark\n",
    "session = SparkSession.builder.master('local[*]').getOrCreate()\n",
    "context = session.sparkContext\n",
    "\n",
    "FILE_PATH = '../0-SPAI/1-datos/data_ok.csv'\n",
    "rdd0_raw = context.textFile(FILE_PATH)\n",
    "\n",
    "def string_to_float(element):\n",
    "    return np.array([float(x) for x in element.split()])\n",
    "# Cada elemento del RDD es un numpy array de floats\n",
    "rdd1_numpys = rdd0_raw.map(string_to_float)\n",
    "\n",
    "def create_tuples(element):\n",
    "    # Devuelve una lista de (índice, (valor, 1))\n",
    "    # El 1 es un para generar un contador del total de elementos\n",
    "    return [(key, (value, 1)) for key, value in enumerate(element)]\n",
    "\n",
    "rdd2 = rdd1_numpys.flatMap(create_tuples)\n",
    "\n",
    "def sum_tuples(tuple1, tuple2):\n",
    "    value_sum = tuple1[0] + tuple2[0]\n",
    "    count_sum = tuple1[1] + tuple2[1]\n",
    "    return (value_sum, count_sum)\n",
    "\n",
    "# Reduce por clave para obtener (suma de valores, conteo de valores)\n",
    "rdd3 = rdd2.reduceByKey(sum_tuples)\n",
    "\n",
    "# Ordenar por clave\n",
    "rdd4 = rdd3.sortByKey()\n",
    "\n",
    "def divide_by_num_elements(element):\n",
    "    key, (value_sum, count) = element\n",
    "    return (key, value_sum / count)\n",
    "\n",
    "# Calcular la media para cada índice\n",
    "means_rdd = rdd4.map(divide_by_num_elements)\n",
    "\n",
    "# En este caso, como el número de columnas, y por tanto el número de medias\n",
    "# no es big data (son solo 211 valores) se pueden pasar a la memoria sin \n",
    "# colapsarla.\n",
    "means_list = means_rdd.collect()\n",
    "\n",
    "# Extraer solo los valores de las medias manteniendo el orden de los índices\n",
    "# y convertir a numpy array.\n",
    "means_numpy = np.array([value for _, value in means_list])\n",
    "\n",
    "\n",
    "# Con los valores de las medias en un numpy array se puede operar sobre\n",
    "# los valores originales, que también estaban en un numpy.\n",
    "def squared_diffs(element):\n",
    "    return (element - means_numpy)**2\n",
    "rdd5 = rdd1_numpys.map(squared_diffs)\n",
    "\n",
    "# Aplicar de nuevo la función create_tuples para cada array\n",
    "rdd6 = rdd5.flatMap(create_tuples)\n",
    "# Reduce por clave para obtener (suma de valores, conteo de valores)\n",
    "rdd7 = rdd6.reduceByKey(sum_tuples)\n",
    "# Ordenar por clave\n",
    "rdd8 = rdd7.sortByKey()\n",
    "# Calcular varianza\n",
    "variance_rdd = rdd8.map(divide_by_num_elements)\n",
    "# Calcular desvest\n",
    "desvest_rdd = variance_rdd.map(lambda x: x[1]**(1/2))\n",
    "desvest_rdd.take(5)"
   ]
  }
 ],
 "metadata": {
  "kernelspec": {
   "display_name": "py37",
   "language": "python",
   "name": "python3"
  },
  "language_info": {
   "codemirror_mode": {
    "name": "ipython",
    "version": 3
   },
   "file_extension": ".py",
   "mimetype": "text/x-python",
   "name": "python",
   "nbconvert_exporter": "python",
   "pygments_lexer": "ipython3",
   "version": "3.7.16"
  }
 },
 "nbformat": 4,
 "nbformat_minor": 2
}
