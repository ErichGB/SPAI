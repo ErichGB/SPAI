{
 "cells": [
  {
   "cell_type": "markdown",
   "metadata": {},
   "source": [
    "Implementación distribuida y paralelizada de un algoritmo de Machine Learning"
   ]
  },
  {
   "cell_type": "code",
   "execution_count": 1,
   "metadata": {},
   "outputs": [
    {
     "name": "stderr",
     "output_type": "stream",
     "text": [
      "24/10/19 19:03:30 WARN Utils: Your hostname, daniel-fpga resolves to a loopback address: 127.0.1.1; using 192.168.0.201 instead (on interface enp2s0f2)\n",
      "24/10/19 19:03:30 WARN Utils: Set SPARK_LOCAL_IP if you need to bind to another address\n",
      "Setting default log level to \"WARN\".\n",
      "To adjust logging level use sc.setLogLevel(newLevel). For SparkR, use setLogLevel(newLevel).\n",
      "24/10/19 19:03:40 WARN NativeCodeLoader: Unable to load native-hadoop library for your platform... using builtin-java classes where applicable\n",
      "/opt/spark/python/pyspark/context.py:317: FutureWarning: Python 3.7 support is deprecated in Spark 3.4.\n",
      "  warnings.warn(\"Python 3.7 support is deprecated in Spark 3.4.\", FutureWarning)\n"
     ]
    },
    {
     "name": "stdout",
     "output_type": "stream",
     "text": [
      "Número de workers  1\n"
     ]
    },
    {
     "name": "stderr",
     "output_type": "stream",
     "text": [
      "                                                                                \r"
     ]
    },
    {
     "name": "stdout",
     "output_type": "stream",
     "text": [
      "[train] Iteración 0, Coste = 1.2477727975978592\n"
     ]
    },
    {
     "name": "stderr",
     "output_type": "stream",
     "text": [
      "                                                                                \r"
     ]
    },
    {
     "name": "stdout",
     "output_type": "stream",
     "text": [
      "[train] Iteración 1, Coste = 0.7677959667822504\n"
     ]
    },
    {
     "name": "stderr",
     "output_type": "stream",
     "text": [
      "                                                                                \r"
     ]
    },
    {
     "name": "stdout",
     "output_type": "stream",
     "text": [
      "[train] Iteración 2, Coste = 0.5271132041282294\n"
     ]
    },
    {
     "name": "stderr",
     "output_type": "stream",
     "text": [
      "                                                                                \r"
     ]
    },
    {
     "name": "stdout",
     "output_type": "stream",
     "text": [
      "[train] Iteración 3, Coste = 0.40128478073027096\n"
     ]
    },
    {
     "name": "stderr",
     "output_type": "stream",
     "text": [
      "                                                                                \r"
     ]
    },
    {
     "name": "stdout",
     "output_type": "stream",
     "text": [
      "[train] Iteración 4, Coste = 0.3324726695399143\n"
     ]
    },
    {
     "name": "stderr",
     "output_type": "stream",
     "text": [
      "                                                                                \r"
     ]
    },
    {
     "name": "stdout",
     "output_type": "stream",
     "text": [
      "[train] Iteración 5, Coste = 0.2921492023723284\n"
     ]
    },
    {
     "name": "stderr",
     "output_type": "stream",
     "text": [
      "                                                                                \r"
     ]
    },
    {
     "name": "stdout",
     "output_type": "stream",
     "text": [
      "[train] Iteración 6, Coste = 0.2664668043394709\n"
     ]
    },
    {
     "name": "stderr",
     "output_type": "stream",
     "text": [
      "                                                                                \r"
     ]
    },
    {
     "name": "stdout",
     "output_type": "stream",
     "text": [
      "[train] Iteración 7, Coste = 0.24887554617362348\n"
     ]
    },
    {
     "name": "stderr",
     "output_type": "stream",
     "text": [
      "                                                                                \r"
     ]
    },
    {
     "name": "stdout",
     "output_type": "stream",
     "text": [
      "[train] Iteración 8, Coste = 0.23612721498318645\n"
     ]
    },
    {
     "name": "stderr",
     "output_type": "stream",
     "text": [
      "                                                                                \r"
     ]
    },
    {
     "name": "stdout",
     "output_type": "stream",
     "text": [
      "[train] Iteración 9, Coste = 0.22648151698337085\n"
     ]
    },
    {
     "name": "stderr",
     "output_type": "stream",
     "text": [
      "                                                                                \r"
     ]
    },
    {
     "name": "stdout",
     "output_type": "stream",
     "text": [
      "Accuracy  0.92353\n",
      "Tiempo de ejecución (s)  223.4232795238495\n"
     ]
    },
    {
     "name": "stderr",
     "output_type": "stream",
     "text": [
      "/opt/spark/python/pyspark/context.py:317: FutureWarning: Python 3.7 support is deprecated in Spark 3.4.\n",
      "  warnings.warn(\"Python 3.7 support is deprecated in Spark 3.4.\", FutureWarning)\n"
     ]
    },
    {
     "name": "stdout",
     "output_type": "stream",
     "text": [
      "Número de workers  2\n"
     ]
    },
    {
     "name": "stderr",
     "output_type": "stream",
     "text": [
      "                                                                                \r"
     ]
    },
    {
     "name": "stdout",
     "output_type": "stream",
     "text": [
      "[train] Iteración 0, Coste = 1.0462166459648352\n"
     ]
    },
    {
     "name": "stderr",
     "output_type": "stream",
     "text": [
      "                                                                                \r"
     ]
    },
    {
     "name": "stdout",
     "output_type": "stream",
     "text": [
      "[train] Iteración 1, Coste = 0.5725751510225985\n"
     ]
    },
    {
     "name": "stderr",
     "output_type": "stream",
     "text": [
      "                                                                                \r"
     ]
    },
    {
     "name": "stdout",
     "output_type": "stream",
     "text": [
      "[train] Iteración 2, Coste = 0.4077845170867011\n"
     ]
    },
    {
     "name": "stderr",
     "output_type": "stream",
     "text": [
      "                                                                                \r"
     ]
    },
    {
     "name": "stdout",
     "output_type": "stream",
     "text": [
      "[train] Iteración 3, Coste = 0.3320229458003188\n"
     ]
    },
    {
     "name": "stderr",
     "output_type": "stream",
     "text": [
      "                                                                                \r"
     ]
    },
    {
     "name": "stdout",
     "output_type": "stream",
     "text": [
      "[train] Iteración 4, Coste = 0.29013834690724316\n"
     ]
    },
    {
     "name": "stderr",
     "output_type": "stream",
     "text": [
      "                                                                                \r"
     ]
    },
    {
     "name": "stdout",
     "output_type": "stream",
     "text": [
      "[train] Iteración 5, Coste = 0.2641038204493191\n"
     ]
    },
    {
     "name": "stderr",
     "output_type": "stream",
     "text": [
      "                                                                                \r"
     ]
    },
    {
     "name": "stdout",
     "output_type": "stream",
     "text": [
      "[train] Iteración 6, Coste = 0.24652052100169872\n"
     ]
    },
    {
     "name": "stderr",
     "output_type": "stream",
     "text": [
      "                                                                                \r"
     ]
    },
    {
     "name": "stdout",
     "output_type": "stream",
     "text": [
      "[train] Iteración 7, Coste = 0.2339002021813875\n"
     ]
    },
    {
     "name": "stderr",
     "output_type": "stream",
     "text": [
      "                                                                                \r"
     ]
    },
    {
     "name": "stdout",
     "output_type": "stream",
     "text": [
      "[train] Iteración 8, Coste = 0.22441739502321695\n"
     ]
    },
    {
     "name": "stderr",
     "output_type": "stream",
     "text": [
      "                                                                                \r"
     ]
    },
    {
     "name": "stdout",
     "output_type": "stream",
     "text": [
      "[train] Iteración 9, Coste = 0.21703532096667044\n"
     ]
    },
    {
     "name": "stderr",
     "output_type": "stream",
     "text": [
      "                                                                                \r"
     ]
    },
    {
     "name": "stdout",
     "output_type": "stream",
     "text": [
      "Accuracy  0.92916\n",
      "Tiempo de ejecución (s)  136.04958081245422\n"
     ]
    },
    {
     "name": "stderr",
     "output_type": "stream",
     "text": [
      "/opt/spark/python/pyspark/context.py:317: FutureWarning: Python 3.7 support is deprecated in Spark 3.4.\n",
      "  warnings.warn(\"Python 3.7 support is deprecated in Spark 3.4.\", FutureWarning)\n"
     ]
    },
    {
     "name": "stdout",
     "output_type": "stream",
     "text": [
      "Número de workers  3\n"
     ]
    },
    {
     "name": "stderr",
     "output_type": "stream",
     "text": [
      "                                                                                \r"
     ]
    },
    {
     "name": "stdout",
     "output_type": "stream",
     "text": [
      "[train] Iteración 0, Coste = 1.103247187376731\n"
     ]
    },
    {
     "name": "stderr",
     "output_type": "stream",
     "text": [
      "                                                                                \r"
     ]
    },
    {
     "name": "stdout",
     "output_type": "stream",
     "text": [
      "[train] Iteración 1, Coste = 0.5604633952917382\n"
     ]
    },
    {
     "name": "stderr",
     "output_type": "stream",
     "text": [
      "                                                                                \r"
     ]
    },
    {
     "name": "stdout",
     "output_type": "stream",
     "text": [
      "[train] Iteración 2, Coste = 0.414662876376823\n"
     ]
    },
    {
     "name": "stderr",
     "output_type": "stream",
     "text": [
      "                                                                                \r"
     ]
    },
    {
     "name": "stdout",
     "output_type": "stream",
     "text": [
      "[train] Iteración 3, Coste = 0.35052602491150153\n"
     ]
    },
    {
     "name": "stderr",
     "output_type": "stream",
     "text": [
      "                                                                                \r"
     ]
    },
    {
     "name": "stdout",
     "output_type": "stream",
     "text": [
      "[train] Iteración 4, Coste = 0.3121970573747008\n"
     ]
    },
    {
     "name": "stderr",
     "output_type": "stream",
     "text": [
      "                                                                                \r"
     ]
    },
    {
     "name": "stdout",
     "output_type": "stream",
     "text": [
      "[train] Iteración 5, Coste = 0.28626268348355394\n"
     ]
    },
    {
     "name": "stderr",
     "output_type": "stream",
     "text": [
      "                                                                                \r"
     ]
    },
    {
     "name": "stdout",
     "output_type": "stream",
     "text": [
      "[train] Iteración 6, Coste = 0.26748247350970183\n"
     ]
    },
    {
     "name": "stderr",
     "output_type": "stream",
     "text": [
      "                                                                                \r"
     ]
    },
    {
     "name": "stdout",
     "output_type": "stream",
     "text": [
      "[train] Iteración 7, Coste = 0.2532586293400961\n"
     ]
    },
    {
     "name": "stderr",
     "output_type": "stream",
     "text": [
      "                                                                                \r"
     ]
    },
    {
     "name": "stdout",
     "output_type": "stream",
     "text": [
      "[train] Iteración 8, Coste = 0.24212389153919167\n"
     ]
    },
    {
     "name": "stderr",
     "output_type": "stream",
     "text": [
      "                                                                                \r"
     ]
    },
    {
     "name": "stdout",
     "output_type": "stream",
     "text": [
      "[train] Iteración 9, Coste = 0.2331794697010248\n"
     ]
    },
    {
     "name": "stderr",
     "output_type": "stream",
     "text": [
      "                                                                                \r"
     ]
    },
    {
     "name": "stdout",
     "output_type": "stream",
     "text": [
      "Accuracy  0.91924\n",
      "Tiempo de ejecución (s)  138.35452437400818\n"
     ]
    },
    {
     "name": "stderr",
     "output_type": "stream",
     "text": [
      "/opt/spark/python/pyspark/context.py:317: FutureWarning: Python 3.7 support is deprecated in Spark 3.4.\n",
      "  warnings.warn(\"Python 3.7 support is deprecated in Spark 3.4.\", FutureWarning)\n"
     ]
    },
    {
     "name": "stdout",
     "output_type": "stream",
     "text": [
      "Número de workers  4\n"
     ]
    },
    {
     "name": "stderr",
     "output_type": "stream",
     "text": [
      "                                                                                \r"
     ]
    },
    {
     "name": "stdout",
     "output_type": "stream",
     "text": [
      "[train] Iteración 0, Coste = 1.283753363703815\n"
     ]
    },
    {
     "name": "stderr",
     "output_type": "stream",
     "text": [
      "                                                                                \r"
     ]
    },
    {
     "name": "stdout",
     "output_type": "stream",
     "text": [
      "[train] Iteración 1, Coste = 0.6173950811008204\n"
     ]
    },
    {
     "name": "stderr",
     "output_type": "stream",
     "text": [
      "                                                                                \r"
     ]
    },
    {
     "name": "stdout",
     "output_type": "stream",
     "text": [
      "[train] Iteración 2, Coste = 0.4262125140223182\n"
     ]
    },
    {
     "name": "stderr",
     "output_type": "stream",
     "text": [
      "                                                                                \r"
     ]
    },
    {
     "name": "stdout",
     "output_type": "stream",
     "text": [
      "[train] Iteración 3, Coste = 0.34936989897393855\n"
     ]
    },
    {
     "name": "stderr",
     "output_type": "stream",
     "text": [
      "                                                                                \r"
     ]
    },
    {
     "name": "stdout",
     "output_type": "stream",
     "text": [
      "[train] Iteración 4, Coste = 0.3068861970476136\n"
     ]
    },
    {
     "name": "stderr",
     "output_type": "stream",
     "text": [
      "                                                                                \r"
     ]
    },
    {
     "name": "stdout",
     "output_type": "stream",
     "text": [
      "[train] Iteración 5, Coste = 0.2797489161092997\n"
     ]
    },
    {
     "name": "stderr",
     "output_type": "stream",
     "text": [
      "                                                                                \r"
     ]
    },
    {
     "name": "stdout",
     "output_type": "stream",
     "text": [
      "[train] Iteración 6, Coste = 0.2608925331662933\n"
     ]
    },
    {
     "name": "stderr",
     "output_type": "stream",
     "text": [
      "                                                                                \r"
     ]
    },
    {
     "name": "stdout",
     "output_type": "stream",
     "text": [
      "[train] Iteración 7, Coste = 0.24702386080066063\n"
     ]
    },
    {
     "name": "stderr",
     "output_type": "stream",
     "text": [
      "                                                                                \r"
     ]
    },
    {
     "name": "stdout",
     "output_type": "stream",
     "text": [
      "[train] Iteración 8, Coste = 0.23639060765926595\n"
     ]
    },
    {
     "name": "stderr",
     "output_type": "stream",
     "text": [
      "                                                                                \r"
     ]
    },
    {
     "name": "stdout",
     "output_type": "stream",
     "text": [
      "[train] Iteración 9, Coste = 0.2279737436978856\n"
     ]
    },
    {
     "name": "stderr",
     "output_type": "stream",
     "text": [
      "                                                                                \r"
     ]
    },
    {
     "name": "stdout",
     "output_type": "stream",
     "text": [
      "Accuracy  0.92446\n",
      "Tiempo de ejecución (s)  134.15969133377075\n"
     ]
    },
    {
     "name": "stderr",
     "output_type": "stream",
     "text": [
      "/opt/spark/python/pyspark/context.py:317: FutureWarning: Python 3.7 support is deprecated in Spark 3.4.\n",
      "  warnings.warn(\"Python 3.7 support is deprecated in Spark 3.4.\", FutureWarning)\n"
     ]
    },
    {
     "name": "stdout",
     "output_type": "stream",
     "text": [
      "Número de workers  5\n"
     ]
    },
    {
     "name": "stderr",
     "output_type": "stream",
     "text": [
      "                                                                                \r"
     ]
    },
    {
     "name": "stdout",
     "output_type": "stream",
     "text": [
      "[train] Iteración 0, Coste = 0.7774200607106855\n"
     ]
    },
    {
     "name": "stderr",
     "output_type": "stream",
     "text": [
      "                                                                                \r"
     ]
    },
    {
     "name": "stdout",
     "output_type": "stream",
     "text": [
      "[train] Iteración 1, Coste = 0.4415983651298855\n"
     ]
    },
    {
     "name": "stderr",
     "output_type": "stream",
     "text": [
      "                                                                                \r"
     ]
    },
    {
     "name": "stdout",
     "output_type": "stream",
     "text": [
      "[train] Iteración 2, Coste = 0.326464814625356\n"
     ]
    },
    {
     "name": "stderr",
     "output_type": "stream",
     "text": [
      "                                                                                \r"
     ]
    },
    {
     "name": "stdout",
     "output_type": "stream",
     "text": [
      "[train] Iteración 3, Coste = 0.2798865763546628\n"
     ]
    },
    {
     "name": "stderr",
     "output_type": "stream",
     "text": [
      "                                                                                \r"
     ]
    },
    {
     "name": "stdout",
     "output_type": "stream",
     "text": [
      "[train] Iteración 4, Coste = 0.25548073354995154\n"
     ]
    },
    {
     "name": "stderr",
     "output_type": "stream",
     "text": [
      "                                                                                \r"
     ]
    },
    {
     "name": "stdout",
     "output_type": "stream",
     "text": [
      "[train] Iteración 5, Coste = 0.24020705625816438\n"
     ]
    },
    {
     "name": "stderr",
     "output_type": "stream",
     "text": [
      "                                                                                \r"
     ]
    },
    {
     "name": "stdout",
     "output_type": "stream",
     "text": [
      "[train] Iteración 6, Coste = 0.22954971549540082\n"
     ]
    },
    {
     "name": "stderr",
     "output_type": "stream",
     "text": [
      "                                                                                \r"
     ]
    },
    {
     "name": "stdout",
     "output_type": "stream",
     "text": [
      "[train] Iteración 7, Coste = 0.22157284195259702\n"
     ]
    },
    {
     "name": "stderr",
     "output_type": "stream",
     "text": [
      "                                                                                \r"
     ]
    },
    {
     "name": "stdout",
     "output_type": "stream",
     "text": [
      "[train] Iteración 8, Coste = 0.215309415359924\n"
     ]
    },
    {
     "name": "stderr",
     "output_type": "stream",
     "text": [
      "                                                                                \r"
     ]
    },
    {
     "name": "stdout",
     "output_type": "stream",
     "text": [
      "[train] Iteración 9, Coste = 0.21022030440207853\n"
     ]
    },
    {
     "name": "stderr",
     "output_type": "stream",
     "text": [
      "                                                                                \r"
     ]
    },
    {
     "name": "stdout",
     "output_type": "stream",
     "text": [
      "Accuracy  0.92976\n",
      "Tiempo de ejecución (s)  132.11510372161865\n"
     ]
    },
    {
     "name": "stderr",
     "output_type": "stream",
     "text": [
      "/opt/spark/python/pyspark/context.py:317: FutureWarning: Python 3.7 support is deprecated in Spark 3.4.\n",
      "  warnings.warn(\"Python 3.7 support is deprecated in Spark 3.4.\", FutureWarning)\n"
     ]
    },
    {
     "name": "stdout",
     "output_type": "stream",
     "text": [
      "Número de workers  6\n"
     ]
    },
    {
     "name": "stderr",
     "output_type": "stream",
     "text": [
      "                                                                                \r"
     ]
    },
    {
     "name": "stdout",
     "output_type": "stream",
     "text": [
      "[train] Iteración 0, Coste = 1.7286200123595807\n"
     ]
    },
    {
     "name": "stderr",
     "output_type": "stream",
     "text": [
      "                                                                                \r"
     ]
    },
    {
     "name": "stdout",
     "output_type": "stream",
     "text": [
      "[train] Iteración 1, Coste = 0.8858963378983948\n"
     ]
    },
    {
     "name": "stderr",
     "output_type": "stream",
     "text": [
      "                                                                                \r"
     ]
    },
    {
     "name": "stdout",
     "output_type": "stream",
     "text": [
      "[train] Iteración 2, Coste = 0.5795149282332092\n"
     ]
    },
    {
     "name": "stderr",
     "output_type": "stream",
     "text": [
      "                                                                                \r"
     ]
    },
    {
     "name": "stdout",
     "output_type": "stream",
     "text": [
      "[train] Iteración 3, Coste = 0.44894946769269023\n"
     ]
    },
    {
     "name": "stderr",
     "output_type": "stream",
     "text": [
      "                                                                                \r"
     ]
    },
    {
     "name": "stdout",
     "output_type": "stream",
     "text": [
      "[train] Iteración 4, Coste = 0.37609948317511344\n"
     ]
    },
    {
     "name": "stderr",
     "output_type": "stream",
     "text": [
      "                                                                                \r"
     ]
    },
    {
     "name": "stdout",
     "output_type": "stream",
     "text": [
      "[train] Iteración 5, Coste = 0.32995206908898006\n"
     ]
    },
    {
     "name": "stderr",
     "output_type": "stream",
     "text": [
      "                                                                                \r"
     ]
    },
    {
     "name": "stdout",
     "output_type": "stream",
     "text": [
      "[train] Iteración 6, Coste = 0.298538824628371\n"
     ]
    },
    {
     "name": "stderr",
     "output_type": "stream",
     "text": [
      "                                                                                \r"
     ]
    },
    {
     "name": "stdout",
     "output_type": "stream",
     "text": [
      "[train] Iteración 7, Coste = 0.27606710958062475\n"
     ]
    },
    {
     "name": "stderr",
     "output_type": "stream",
     "text": [
      "                                                                                \r"
     ]
    },
    {
     "name": "stdout",
     "output_type": "stream",
     "text": [
      "[train] Iteración 8, Coste = 0.2593594020771583\n"
     ]
    },
    {
     "name": "stderr",
     "output_type": "stream",
     "text": [
      "                                                                                \r"
     ]
    },
    {
     "name": "stdout",
     "output_type": "stream",
     "text": [
      "[train] Iteración 9, Coste = 0.2465363705719562\n"
     ]
    },
    {
     "name": "stderr",
     "output_type": "stream",
     "text": [
      "[Stage 45:>                                                         (0 + 2) / 2]\r"
     ]
    },
    {
     "name": "stdout",
     "output_type": "stream",
     "text": [
      "Accuracy  0.91464\n",
      "Tiempo de ejecución (s)  130.7578227519989\n"
     ]
    },
    {
     "name": "stderr",
     "output_type": "stream",
     "text": [
      "                                                                                \r"
     ]
    }
   ],
   "source": [
    "import findspark\n",
    "findspark.init()\n",
    "from pyspark.sql import SparkSession\n",
    "\n",
    "import numpy as np\n",
    "from pyspark import RDD\n",
    "\n",
    "import time\n",
    "import json\n",
    "\n",
    "\n",
    "def readFile(filename):\n",
    "    def transform_to_floats(line:str) -> np.ndarray:\n",
    "        # Importante. Retornar como tupla\n",
    "        element = [float(x) for x in line.split(',')]\n",
    "        return (np.array(element))\n",
    "    \n",
    "    data_raw = contex_global.textFile(filename)\n",
    "    return data_raw.map(transform_to_floats)\n",
    "\n",
    "\n",
    "def _calculate_mean(rdd:RDD, total_rows:int) -> np.ndarray:\n",
    "    def reduce_function(value1, value2):\n",
    "        return value1[:11] + value2[:11]\n",
    "    \n",
    "    return rdd.reduce(reduce_function) / total_rows\n",
    "\n",
    "def _calculate_stdev(rdd:RDD, mean:np.ndarray, total_rows:int) -> np.ndarray:\n",
    "    def map_function(element):\n",
    "        return (element[:11] - mean)**2\n",
    "\n",
    "    def reduce_function(value1, value2):\n",
    "        return value1[:11] + value2[:11]\n",
    "    \n",
    "    rdd_aux = rdd.map(map_function)\n",
    "    return (rdd_aux.reduce(reduce_function) / total_rows)**(1/2)\n",
    "\n",
    "\n",
    "def normalize(RDD_Xy:RDD) -> RDD:\n",
    "    def map_function(element, mean, desvest):\n",
    "        x_values = (element[:11] - mean) / desvest\n",
    "        return np.concatenate((x_values, [element[-1]]))\n",
    "\n",
    "    m = RDD_Xy.count()\n",
    "    mean = _calculate_mean(RDD_Xy, m)\n",
    "    desvest = _calculate_stdev(RDD_Xy, mean, m)\n",
    "    return RDD_Xy.map(lambda element: map_function(element, mean, desvest))\n",
    "\n",
    "\n",
    "def _sigmoid(z):\n",
    "    return 1 / (1 + np.exp(-z))\n",
    "\n",
    "def _map_label_y_hat_diffs(element, W:np.ndarray, b:np.ndarray):\n",
    "    \"\"\"Añade después de la y(etiqueta) el y_hat(ŷ) y la diferencia ŷ-y que se\n",
    "    utiliza para calcular tanto el coste como las derivadas de W y b. Es necesario\n",
    "    mantener el orden en el RDD.\n",
    "    \"\"\"\n",
    "    dot_product = 0\n",
    "    n = W.size\n",
    "    for i in range(n):\n",
    "        dot_product += element[i] * W[i]\n",
    "    \n",
    "    y_hat = float(_sigmoid(dot_product + b))\n",
    "    diff = y_hat - element[-1]\n",
    "    to_append = [y_hat, diff]\n",
    "\n",
    "    return (np.append(element, to_append)) \n",
    "\n",
    "def _calculate_y_hat_and_diffs(RDD_Xy, W:np.ndarray, b:np.ndarray) -> RDD:\n",
    "    return RDD_Xy.map(lambda element: _map_label_y_hat_diffs(element, W, b))\n",
    "\n",
    "def _calculate_cost_J(RDD_XY) -> float:\n",
    "    def _map_cost_function_J(element):\n",
    "        label, y_hat = element\n",
    "        #DEBUG. Cambiar log10 a log en la versión final\n",
    "        return label * np.log(y_hat) + (1 - label) * np.log(1 - y_hat)\n",
    "    \n",
    "    # Cuidado con los índices, que es aquí donde se hace la \"vista\".\n",
    "    RDD_label_y_hat = RDD_XY.map(lambda element: (element[-3], element[-2]))\n",
    "    aux_costs = RDD_label_y_hat.map(_map_cost_function_J)\n",
    "    m = RDD_label_y_hat.count()\n",
    "    return -aux_costs.reduce(lambda x, y: x + y) / m\n",
    "\n",
    "def _map_label_y_pred(element, W:np.ndarray, b:np.ndarray):\n",
    "    dot_product = 0\n",
    "    n = W.size\n",
    "    for i in range(n):\n",
    "        dot_product += element[i] * W[i]\n",
    "    # ¿Hace falta mantener el orden etiqueta <-> y_hat para calcular\n",
    "    # accuracy? Sí, para ver cuántas veces acierta.\n",
    "    y_hat = float(_sigmoid(dot_product + b))\n",
    "    THRESHOLD = 0.5\n",
    "    if y_hat > THRESHOLD:\n",
    "        y_pred = 1\n",
    "    else:\n",
    "        y_pred = 0\n",
    "    return (element[-1], y_pred)\n",
    "\n",
    "def predict(W:np.ndarray, b:np.ndarray, RDD_Xy) -> RDD:\n",
    "    return RDD_Xy.map(lambda element: _map_label_y_pred(element, W, b))\n",
    "\n",
    "def accuracy(W, b, RDD_Xy:RDD) -> float:\n",
    "    def map_function(element):\n",
    "        label, y_pred = element\n",
    "        if label == y_pred:\n",
    "            return 1\n",
    "        else:\n",
    "            return 0\n",
    "    predictions_rdd = predict(W, b, RDD_Xy)\n",
    "    aux_acc = predictions_rdd.map(map_function)\n",
    "    m = aux_acc.count()\n",
    "    accuracy = aux_acc.reduce(lambda x,y: x + y) / m\n",
    "    return accuracy\n",
    "\n",
    "def train(RDD_Xy:RDD, iterations, learning_rate):\n",
    "    def b_map(element):\n",
    "        return element[-1] # Se corresponde con las diferencias\n",
    "    \n",
    "    def W_map(element):\n",
    "        return np.array([element[-1] * element[i] for i in range(num_W)])\n",
    "    \n",
    "    m = RDD_Xy.count()\n",
    "    MODEL_PARAMS = 12 # 11 pesos + 1 sesgo\n",
    "    num_W = MODEL_PARAMS - 1\n",
    "\n",
    "    W = 2 * np.random.rand(num_W) - 1\n",
    "    b = 2 * np.random.rand(1) - 1\n",
    "\n",
    "    for it in range(iterations):\n",
    "        rdd_xy_y_hat_diffs = _calculate_y_hat_and_diffs(RDD_Xy, W, b)\n",
    "\n",
    "        dW_aux = rdd_xy_y_hat_diffs.map(W_map)\n",
    "        dW = dW_aux.reduce(lambda x,y: x + y) / m\n",
    "        W = W - learning_rate * dW\n",
    "        \n",
    "        diffs_label_hat = rdd_xy_y_hat_diffs.map(b_map)\n",
    "        db = diffs_label_hat.reduce(lambda x,y: x + y) / m\n",
    "        b = b - learning_rate * db\n",
    "\n",
    "        cost = _calculate_cost_J(rdd_xy_y_hat_diffs)\n",
    "        cost_list.append(cost)\n",
    "        print(f'[train] Iteración {it}, Coste = {cost}')\n",
    "\n",
    "    return W,b\n",
    "\n",
    "def save_data(resultado, filename):\n",
    "    try:\n",
    "        with open(filename, 'r') as infile:\n",
    "            data = json.load(infile)\n",
    "    except FileNotFoundError:\n",
    "        data = []  # Si el archivo no existe, comenzamos con una lista vacía\n",
    "    \n",
    "    data.append(resultado)\n",
    "\n",
    "    with open(filename, 'w') as outfile:\n",
    "        json.dump(data, outfile, indent=4)\n",
    "\n",
    "\n",
    "#FILE_NAME = '../../0-SPAI/1-datos/botnet_tot_syn_l.csv'\n",
    "#FILE_NAME = 'botnet_sample.csv'\n",
    "FILE_NAME = '../../0-SPAI/1-datos/botnet_100k.csv'\n",
    "\n",
    "LEARNING_RATE = 1.5\n",
    "N_ITER = 10\n",
    "\n",
    "OUTPUT_FILE = 'run_times_100k_3.json'\n",
    "\n",
    "\n",
    "for num_workers in range(1,7):\n",
    "    if 'session_global' in globals():\n",
    "        session_global.stop()\n",
    "    \n",
    "    session_global = SparkSession.builder.master(f'local[{num_workers}]').getOrCreate()\n",
    "    contex_global = session_global.sparkContext\n",
    "\n",
    "    start = time.time()\n",
    "    print('Número de workers ', num_workers)\n",
    "\n",
    "    # read data\n",
    "    data_raw_rdd = readFile(FILE_NAME)\n",
    "\n",
    "    # standarize\n",
    "    normal_data = normalize(data_raw_rdd)\n",
    "\n",
    "    # train\n",
    "    cost_list = []\n",
    "    W, b = train(normal_data, N_ITER, LEARNING_RATE)\n",
    "\n",
    "    acc = accuracy(W, b, normal_data)\n",
    "    print('Accuracy ', acc)\n",
    "\n",
    "    end = time.time()\n",
    "    runtime = end - start\n",
    "    print('Tiempo de ejecución (s) ', runtime)\n",
    "\n",
    "    results = {\n",
    "        \"num_workers\": num_workers,\n",
    "        \"accuracy\": acc,\n",
    "        \"runtime\": runtime,\n",
    "        \"costs\": cost_list\n",
    "    }\n",
    "\n",
    "    save_data(results, OUTPUT_FILE)\n"
   ]
  }
 ],
 "metadata": {
  "kernelspec": {
   "display_name": "py37",
   "language": "python",
   "name": "python3"
  },
  "language_info": {
   "codemirror_mode": {
    "name": "ipython",
    "version": 3
   },
   "file_extension": ".py",
   "mimetype": "text/x-python",
   "name": "python",
   "nbconvert_exporter": "python",
   "pygments_lexer": "ipython3",
   "version": "3.7.16"
  }
 },
 "nbformat": 4,
 "nbformat_minor": 2
}
