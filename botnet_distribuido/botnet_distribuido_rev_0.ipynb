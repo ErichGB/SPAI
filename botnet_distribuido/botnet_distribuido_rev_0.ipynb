{
 "cells": [
  {
   "cell_type": "markdown",
   "metadata": {},
   "source": [
    "Implementación distribuida y paralelizada de un algoritmo de Machine Learning"
   ]
  },
  {
   "cell_type": "code",
   "execution_count": 8,
   "metadata": {},
   "outputs": [
    {
     "name": "stderr",
     "output_type": "stream",
     "text": [
      "                                                                                \r"
     ]
    },
    {
     "data": {
      "text/plain": [
       "[array([-0.79240977, -0.81309371, -0.42245076, -0.46646975, -0.52239296,\n",
       "        -0.35631957,  0.7370103 ,  0.52834963,  0.82717799,  0.47316616,\n",
       "         0.15895172,  1.        ]),\n",
       " array([ 1.4437204 ,  1.116361  ,  0.39127564, -0.46646975, -0.5223921 ,\n",
       "        -0.35631927,  0.92633194,  1.48012075,  1.02641833, -0.82869545,\n",
       "         0.15894853,  0.        ])]"
      ]
     },
     "execution_count": 8,
     "metadata": {},
     "output_type": "execute_result"
    }
   ],
   "source": [
    "import findspark\n",
    "findspark.init()\n",
    "from pyspark.sql import SparkSession\n",
    "\n",
    "import numpy as np\n",
    "from pyspark import RDD\n",
    "from typing import Tuple \n",
    "\n",
    "\n",
    "def readFile(filename):\n",
    "    def transform_to_floats(line:str) -> np.ndarray:\n",
    "        # Importante. Retornar como tupla\n",
    "        element = [float(x) for x in line.split(',')]\n",
    "        return (np.array(element))\n",
    "    \n",
    "    data_raw = contex_global.textFile(filename)\n",
    "    return data_raw.map(transform_to_floats)\n",
    "\n",
    "\n",
    "def _calculate_mean(rdd:RDD, total_rows:int) -> np.ndarray:\n",
    "    def reduce_function(value1, value2):\n",
    "        return value1[:11] + value2[:11]\n",
    "    \n",
    "    return rdd.reduce(reduce_function) / total_rows\n",
    "\n",
    "def _calculate_stdev(rdd:RDD, mean:np.ndarray, total_rows:int) -> np.ndarray:\n",
    "    def map_function(element):\n",
    "        return (element[:11] - mean)**2\n",
    "\n",
    "    def reduce_function(value1, value2):\n",
    "        return value1[:11] + value2[:11]\n",
    "    \n",
    "    rdd_aux = rdd.map(map_function)\n",
    "    return (rdd_aux.reduce(reduce_function) / total_rows)**(1/2)\n",
    "\n",
    "\n",
    "def normalize(RDD_Xy:RDD):\n",
    "    def map_function(element, mean, desvest):\n",
    "        x_values = (element[:11] - mean) / desvest\n",
    "        return np.concatenate((x_values, [element[-1]]))\n",
    "\n",
    "    m = RDD_Xy.count()\n",
    "    mean = _calculate_mean(RDD_Xy, m)\n",
    "    desvest = _calculate_stdev(RDD_Xy, mean, m)\n",
    "    return RDD_Xy.map(lambda element: map_function(element, mean, desvest))\n",
    "\n",
    "\n",
    "def _model(W,b,X):    \n",
    "    pass\n",
    "\n",
    "def _sigmoid(z):\n",
    "    return 1 / (1 + np.exp(-z))\n",
    "\n",
    "def _cost_function_J(label, prediction):\n",
    "    m = label.shape[0] # No tiene sentido calcular esto cada vez.\n",
    "    return -np.sum(label * np.log(prediction) \\\n",
    "                   + (1 - label) * np.log(1 - prediction)) / m\n",
    "\n",
    "def _convert_to_y_pred(value, threshold):\n",
    "    return np.where(value > threshold, 1, 0)\n",
    "\n",
    "def predict(W,b,x):\n",
    "    pass\n",
    "\n",
    "def accuracy(W, b, RDD_Xy:RDD):\n",
    "    pass\n",
    "\n",
    "def train(RDD_Xy:RDD, iterations, learning_rate):\n",
    "    pass\n",
    "\n",
    "#FILE_NAME = '../../0-SPAI/1-datos/botnet_tot_syn_l.csv'\n",
    "FILE_NAME = 'botnet_sample.csv'\n",
    "LEARNING_RATE = 1.5\n",
    "N_ITER = 10\n",
    "\n",
    "session_global = SparkSession.builder.master('local[*]').getOrCreate()\n",
    "contex_global = session_global.sparkContext\n",
    "\n",
    "# TODO\n",
    "# read data\n",
    "data_raw_rdd = readFile(FILE_NAME)\n",
    "\n",
    "#data_raw_rdd.take(5)\n",
    "#m = data_raw_rdd.count()\n",
    "#media = _calculate_mean(data_raw_rdd, m)\n",
    "#print('Media', media)\n",
    "#desvest = _calculate_stdev(data_raw_rdd, media, m)\n",
    "#print('Desvest = ', desvest)\n",
    "\n",
    "# standarize\n",
    "normal_data = normalize(data_raw_rdd)\n",
    "normal_data.take(2)\n",
    "\n",
    "## train\n",
    "#ws = train(normal_data, N_ITER, LEARNING_RATE)\n",
    "\n",
    "#acc = accuracy(ws, normal_data)\n",
    "#print('Accuracy = ', acc)\n"
   ]
  }
 ],
 "metadata": {
  "kernelspec": {
   "display_name": "py37",
   "language": "python",
   "name": "python3"
  },
  "language_info": {
   "codemirror_mode": {
    "name": "ipython",
    "version": 3
   },
   "file_extension": ".py",
   "mimetype": "text/x-python",
   "name": "python",
   "nbconvert_exporter": "python",
   "pygments_lexer": "ipython3",
   "version": "3.7.16"
  }
 },
 "nbformat": 4,
 "nbformat_minor": 2
}
