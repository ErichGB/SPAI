{
 "cells": [
  {
   "cell_type": "markdown",
   "metadata": {},
   "source": [
    "Implementación centralizada de un algoritmo de Machine Learning"
   ]
  },
  {
   "cell_type": "code",
   "execution_count": 2,
   "metadata": {},
   "outputs": [
    {
     "name": "stdout",
     "output_type": "stream",
     "text": [
      "Cost =  1.1750553399228365\n",
      "Accuracy =  0.413\n",
      "Cost =  0.5416703782455395\n",
      "Accuracy =  0.709\n",
      "Cost =  0.3574607810657002\n",
      "Accuracy =  0.867\n",
      "Cost =  0.2976515651728422\n",
      "Accuracy =  0.894\n",
      "Cost =  0.26904431488667774\n",
      "Accuracy =  0.903\n",
      "Cost =  0.2518813069759511\n",
      "Accuracy =  0.909\n",
      "Cost =  0.24015684451318298\n",
      "Accuracy =  0.911\n",
      "Cost =  0.23147461749752016\n",
      "Accuracy =  0.917\n",
      "Cost =  0.22469349579749603\n",
      "Accuracy =  0.917\n",
      "Cost =  0.21919853465042882\n",
      "Accuracy =  0.918\n",
      "W =  [-0.47987287 -0.69882753 -0.16217952 -0.18389605 -1.18786173  0.72299151\n",
      "  0.22081987 -1.24933884  0.56902333  0.84788573  0.50882295]\n",
      "b =  [-0.11979569]\n"
     ]
    }
   ],
   "source": [
    "import numpy as np\n",
    "\n",
    "def readFile(filename):\n",
    "    return np.loadtxt(filename, delimiter=',')\n",
    "\n",
    "def _calculate_mean(numpy_data):\n",
    "    # Calculates the mean of each column (axis=0) from x0 to x10, \n",
    "    # excluding the last column (x11).\n",
    "    return np.mean(numpy_data[:, :-1], axis=0)\n",
    "\n",
    "def _calculate_desvest(numpy_data):\n",
    "    return np.std(numpy_data[:, :-1], axis=0)\n",
    "\n",
    "def normalize(numpy_data):\n",
    "    mean = _calculate_mean(numpy_data)\n",
    "    desvest = _calculate_desvest(numpy_data)\n",
    "    # The operation only affects the first 11 elements\n",
    "    numpy_data[:, :-1] = (numpy_data[:, :-1] - mean) / desvest\n",
    "    return numpy_data\n",
    "\n",
    "def model(W,b,X):    \n",
    "    return X[:, :-1] @ W + b\n",
    "\n",
    "def _sigmoid(x):\n",
    "    return 1 / (1 + np.exp(-x))\n",
    "\n",
    "def _cost_function_J(y, y_pred):\n",
    "    return -np.sum(y * np.log(y_pred) + (1 - y) * np.log(1 - y_pred)) / m\n",
    "\n",
    "def _convert_to_y_pred(x):\n",
    "    return np.where(x > THRESHOLD, 1, 0)\n",
    "\n",
    "\n",
    "#FILE_NAME = 'botnet_tot_syn_l.csv'\n",
    "FILE_NAME = 'botnet_sample.csv'\n",
    "data_raw = readFile(FILE_NAME)\n",
    "normal_data = normalize(data_raw)\n",
    "m = normal_data.shape[0]\n",
    "\n",
    "W = 2*np.random.rand(11)-1\n",
    "b = 2*np.random.rand(1)-1\n",
    "#W = np.ones(11)\n",
    "#b = np.ones(1)\n",
    "data = normal_data[:, :-1]\n",
    "y = normal_data[:,-1] # Labels\n",
    "learningRate = 1.5\n",
    "THRESHOLD = 0.5\n",
    "nIter = 10\n",
    "\n",
    "for it in range(nIter):\n",
    "    z = model(W,b,normal_data)\n",
    "    y_hat = _sigmoid(z)\n",
    "    y_pred = _convert_to_y_pred(y_hat)\n",
    "    dW = (data.T @ (y_hat - y)) / m\n",
    "    db = np.sum((y_hat - y)) / m\n",
    "    W = W - learningRate * dW\n",
    "    b = b - learningRate * db\n",
    "    cost = _cost_function_J(y, y_hat)\n",
    "\n",
    "    accuracy = np.sum(y == y_pred) / m\n",
    "\n",
    "    print('Cost = ', cost)\n",
    "    print('Accuracy = ', accuracy)\n",
    "\n",
    "print('W = ', W)\n",
    "print('b = ', b)"
   ]
  }
 ],
 "metadata": {
  "kernelspec": {
   "display_name": "py37",
   "language": "python",
   "name": "python3"
  },
  "language_info": {
   "codemirror_mode": {
    "name": "ipython",
    "version": 3
   },
   "file_extension": ".py",
   "mimetype": "text/x-python",
   "name": "python",
   "nbconvert_exporter": "python",
   "pygments_lexer": "ipython3",
   "version": "3.7.16"
  }
 },
 "nbformat": 4,
 "nbformat_minor": 2
}
