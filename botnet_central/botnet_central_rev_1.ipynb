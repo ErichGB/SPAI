{
 "cells": [
  {
   "cell_type": "markdown",
   "metadata": {},
   "source": [
    "Implementación centralizada de un algoritmo de Machine Learning"
   ]
  },
  {
   "cell_type": "code",
   "execution_count": 5,
   "metadata": {},
   "outputs": [
    {
     "name": "stdout",
     "output_type": "stream",
     "text": [
      "Cost =  0.4337926119118173\n",
      "Cost =  0.3524418381788712\n",
      "Cost =  0.2941839360697944\n",
      "Cost =  0.2526468687653947\n",
      "Cost =  0.2226848495909552\n",
      "Cost =  0.20061788677389736\n",
      "Cost =  0.18395931866553036\n",
      "Cost =  0.1710595801960438\n",
      "Cost =  0.16082563318473642\n",
      "Cost =  0.15252612298638502\n",
      "W =  [ 0.01317299 -0.44688374 -0.13714982 -0.08217624 -0.20406805  0.6376878\n",
      "  0.06537173 -0.74217379  0.27645132  0.81397085  0.23204212]\n",
      "b =  [0.0741462]\n"
     ]
    }
   ],
   "source": [
    "import numpy as np\n",
    "\n",
    "#FILE_NAME = '../../1-datos/botnet_tot_syn_l.csv'\n",
    "FILE_NAME = '../../1-datos/botnet_sample.csv'\n",
    "\n",
    "def readFile(filename):\n",
    "    return np.loadtxt(filename, delimiter=',')\n",
    "\n",
    "def _calculate_mean(numpy_data):\n",
    "    # Calculates the mean of each column (axis=0) from x0 to x10, \n",
    "    # excluding the last column (x11).\n",
    "    return np.mean(numpy_data[:, :-1], axis=0)\n",
    "\n",
    "def _calculate_desvest(numpy_data):\n",
    "    return np.std(numpy_data[:, :-1], axis=0)\n",
    "\n",
    "def normalize(numpy_data):\n",
    "    mean = _calculate_mean(numpy_data)\n",
    "    desvest = _calculate_desvest(numpy_data)\n",
    "    # The operation only affects the first 11 elements\n",
    "    numpy_data[:, :-1] = (numpy_data[:, :-1] - mean) / desvest\n",
    "    return numpy_data\n",
    "\n",
    "def predict(W,b,X):    \n",
    "    return X[:, :-1] @ W + b\n",
    "\n",
    "def _sigmoid(x):\n",
    "    return 1 / (1 + np.exp(-x))\n",
    "\n",
    "def _cost_function_J(y, y_pred):\n",
    "    return -np.sum(y * np.log10(y_pred) + (1 - y) * np.log10(1 - y_pred)) / m\n",
    "\n",
    "data_raw = readFile(FILE_NAME)\n",
    "normal_data = normalize(data_raw)\n",
    "m = normal_data.shape[0]\n",
    "\n",
    "W = np.random.rand(11)\n",
    "b = np.random.rand(1)\n",
    "#W = np.ones(11)\n",
    "#b = np.ones(1)\n",
    "data = normal_data[:, :-1]\n",
    "y = normal_data[:,-1] # Labels\n",
    "learningRate = 0.5\n",
    "nIter = 10\n",
    "\n",
    "for it in range(nIter):\n",
    "    z = predict(W,b,normal_data)\n",
    "    y_pred = _sigmoid(z)\n",
    "    dW = (data.T @ (y_pred - y)) / m\n",
    "    db = np.sum((y_pred - y)) / m\n",
    "    W = W - learningRate * dW\n",
    "    b = b - learningRate * db\n",
    "    cost = _cost_function_J(y, y_pred)\n",
    "    print('Cost = ', cost)\n",
    "\n",
    "print('W = ', W)\n",
    "print('b = ', b)"
   ]
  }
 ],
 "metadata": {
  "kernelspec": {
   "display_name": "Python 3 (ipykernel)",
   "language": "python",
   "name": "python3"
  },
  "language_info": {
   "codemirror_mode": {
    "name": "ipython",
    "version": 3
   },
   "file_extension": ".py",
   "mimetype": "text/x-python",
   "name": "python",
   "nbconvert_exporter": "python",
   "pygments_lexer": "ipython3",
   "version": "3.7.16"
  }
 },
 "nbformat": 4,
 "nbformat_minor": 2
}
